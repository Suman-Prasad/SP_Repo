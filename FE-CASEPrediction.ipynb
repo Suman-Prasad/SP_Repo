{
 "cells": [
  {
   "cell_type": "code",
   "execution_count": 5,
   "metadata": {},
   "outputs": [],
   "source": [
    "import pandas as pd\n",
    "import numpy as np\n",
    "import requests\n",
    "import json\n",
    "import csv\n",
    "\n",
    "from csv import writer\n",
    "from csv import reader\n",
    "\n",
    "data = pd.read_csv('/Users/Madhusudan/downloads/COVID_CA_CASES_RAW1.csv')\n",
    "data = data.drop(['Current data Date', 'County name', 'FIPS County Code'], axis=1)\n",
    "data.to_csv ('/Users/Madhusudan/downloads/COVID_CA_CASES_FE1.csv', index = False, header=True)\n",
    "\n",
    "f = open('/Users/Madhusudan/downloads/COVID_CA_CASES_FE2.csv','w')\n",
    "w = csv.writer(f)"
   ]
  },
  {
   "cell_type": "code",
   "execution_count": 6,
   "metadata": {},
   "outputs": [
    {
     "name": "stdout",
     "output_type": "stream",
     "text": [
      "58\n"
     ]
    }
   ],
   "source": [
    "def get_prediction(data={\"Population\":1685886,\"Cases as of 3/4/20\":35,\"Cases as of 3/11/20\":77,\"Casesas of 3/18/20\":111,\"Cases as of 3/25/20\":193,\"Cases as of 4/1/20\":287,\"Cases as of 4/8/20\":623,\"Cases as of 4/15/20\":915,\"Cases as of 4/22/20\":1300,\"Cases as of 4/29/20\":1603,\"Cases as of 5/6/20\":1864,\"Current Cases (5/11/20)\":2103}):\n",
    "    url = 'https://k7acq76z66.execute-api.us-east-1.amazonaws.com/Predict/3b5f5fb9-8bce-4299-9b1f-ed7b0622a52b'\n",
    "    r = requests.post(url, data=json.dumps(data))\n",
    "    response = getattr(r,'_content').decode(\"utf-8\")\n",
    "   # print(response)\n",
    "    return response \n",
    "\n",
    "records_array = data.to_dict('records')\n",
    "print(len(records_array))\n",
    "for a in range(0,len(records_array)):\n",
    "    prediction = json.loads(json.loads(get_prediction(data = records_array[a]))['body'])['predicted_label']\n",
    "    records_array[a][\"Prediction\"] = prediction\n",
    "\n",
    "w.writerow(records_array[0].keys())\n",
    "for a in range(0,len(records_array)):\n",
    "    w.writerow(records_array[a].values())\n"
   ]
  },
  {
   "cell_type": "code",
   "execution_count": null,
   "metadata": {},
   "outputs": [],
   "source": []
  }
 ],
 "metadata": {
  "kernelspec": {
   "display_name": "Python 3",
   "language": "python",
   "name": "python3"
  },
  "language_info": {
   "codemirror_mode": {
    "name": "ipython",
    "version": 3
   },
   "file_extension": ".py",
   "mimetype": "text/x-python",
   "name": "python",
   "nbconvert_exporter": "python",
   "pygments_lexer": "ipython3",
   "version": "3.7.4"
  }
 },
 "nbformat": 4,
 "nbformat_minor": 2
}
